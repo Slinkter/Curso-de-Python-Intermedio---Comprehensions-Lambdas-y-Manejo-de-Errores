{
 "cells": [
  {
   "cell_type": "code",
   "execution_count": 1,
   "metadata": {},
   "outputs": [],
   "source": [
    "DATA = [\n",
    "    {\n",
    "        'name': 'Facundo',\n",
    "        'age': 72,\n",
    "        'organization': 'Platzi',\n",
    "        'position': 'Technical Coach',\n",
    "        'language': 'python',\n",
    "    },\n",
    "    {\n",
    "        'name': 'Luisana',\n",
    "        'age': 33,\n",
    "        'organization': 'Globant',\n",
    "        'position': 'UX Designer',\n",
    "        'language': 'javascript',\n",
    "    },\n",
    "    {\n",
    "        'name': 'HÃ©ctor',\n",
    "        'age': 19,\n",
    "        'organization': 'Platzi',\n",
    "        'position': 'Associate',\n",
    "        'language': 'ruby',\n",
    "    },\n",
    "    {\n",
    "        'name': 'Gabriel',\n",
    "        'age': 20,\n",
    "        'organization': 'Platzi',\n",
    "        'position': 'Associate',\n",
    "        'language': 'javascript',\n",
    "    },\n",
    "    {\n",
    "        'name': 'Isabella',\n",
    "        'age': 30,\n",
    "        'organization': 'Platzi',\n",
    "        'position': 'QA Manager',\n",
    "        'language': 'java',\n",
    "    },\n",
    "    {\n",
    "        'name': 'Karo',\n",
    "        'age': 23,\n",
    "        'organization': 'Everis',\n",
    "        'position': 'Backend Developer',\n",
    "        'language': 'python',\n",
    "    },\n",
    "    {\n",
    "        'name': 'Ariel',\n",
    "        'age': 32,\n",
    "        'organization': 'Rappi',\n",
    "        'position': 'Support',\n",
    "        'language': '',\n",
    "    },\n",
    "    {\n",
    "        'name': 'Juan',\n",
    "        'age': 17,\n",
    "        'organization': '',\n",
    "        'position': 'Student',\n",
    "        'language': 'go',\n",
    "    },\n",
    "    {\n",
    "        'name': 'Pablo',\n",
    "        'age': 32,\n",
    "        'organization': 'Master',\n",
    "        'position': 'Human Resources Manager',\n",
    "        'language': 'python',\n",
    "    },\n",
    "    {\n",
    "        'name': 'Lorena',\n",
    "        'age': 56,\n",
    "        'organization': 'Python Organization',\n",
    "        'position': 'Language Maker',\n",
    "        'language': 'python',\n",
    "    },\n",
    "]\n"
   ]
  },
  {
   "cell_type": "code",
   "execution_count": 2,
   "metadata": {},
   "outputs": [
    {
     "data": {
      "text/plain": [
       "[{'name': 'Facundo',\n",
       "  'age': 72,\n",
       "  'organization': 'Platzi',\n",
       "  'position': 'Technical Coach',\n",
       "  'language': 'python'},\n",
       " {'name': 'Luisana',\n",
       "  'age': 33,\n",
       "  'organization': 'Globant',\n",
       "  'position': 'UX Designer',\n",
       "  'language': 'javascript'},\n",
       " {'name': 'HÃ©ctor',\n",
       "  'age': 19,\n",
       "  'organization': 'Platzi',\n",
       "  'position': 'Associate',\n",
       "  'language': 'ruby'},\n",
       " {'name': 'Gabriel',\n",
       "  'age': 20,\n",
       "  'organization': 'Platzi',\n",
       "  'position': 'Associate',\n",
       "  'language': 'javascript'},\n",
       " {'name': 'Isabella',\n",
       "  'age': 30,\n",
       "  'organization': 'Platzi',\n",
       "  'position': 'QA Manager',\n",
       "  'language': 'java'},\n",
       " {'name': 'Karo',\n",
       "  'age': 23,\n",
       "  'organization': 'Everis',\n",
       "  'position': 'Backend Developer',\n",
       "  'language': 'python'},\n",
       " {'name': 'Ariel',\n",
       "  'age': 32,\n",
       "  'organization': 'Rappi',\n",
       "  'position': 'Support',\n",
       "  'language': ''},\n",
       " {'name': 'Juan',\n",
       "  'age': 17,\n",
       "  'organization': '',\n",
       "  'position': 'Student',\n",
       "  'language': 'go'},\n",
       " {'name': 'Pablo',\n",
       "  'age': 32,\n",
       "  'organization': 'Master',\n",
       "  'position': 'Human Resources Manager',\n",
       "  'language': 'python'},\n",
       " {'name': 'Lorena',\n",
       "  'age': 56,\n",
       "  'organization': 'Python Organization',\n",
       "  'position': 'Language Maker',\n",
       "  'language': 'python'}]"
      ]
     },
     "execution_count": 2,
     "metadata": {},
     "output_type": "execute_result"
    }
   ],
   "source": [
    "DATA"
   ]
  },
  {
   "cell_type": "code",
   "execution_count": 3,
   "metadata": {},
   "outputs": [
    {
     "name": "stdout",
     "output_type": "stream",
     "text": [
      "[{'name': 'Facundo', 'age': 72, 'organization': 'Platzi', 'position': 'Technical Coach', 'language': 'python'}, {'name': 'Luisana', 'age': 33, 'organization': 'Globant', 'position': 'UX Designer', 'language': 'javascript'}, {'name': 'HÃ©ctor', 'age': 19, 'organization': 'Platzi', 'position': 'Associate', 'language': 'ruby'}, {'name': 'Gabriel', 'age': 20, 'organization': 'Platzi', 'position': 'Associate', 'language': 'javascript'}, {'name': 'Isabella', 'age': 30, 'organization': 'Platzi', 'position': 'QA Manager', 'language': 'java'}, {'name': 'Karo', 'age': 23, 'organization': 'Everis', 'position': 'Backend Developer', 'language': 'python'}, {'name': 'Ariel', 'age': 32, 'organization': 'Rappi', 'position': 'Support', 'language': ''}, {'name': 'Juan', 'age': 17, 'organization': '', 'position': 'Student', 'language': 'go'}, {'name': 'Pablo', 'age': 32, 'organization': 'Master', 'position': 'Human Resources Manager', 'language': 'python'}, {'name': 'Lorena', 'age': 56, 'organization': 'Python Organization', 'position': 'Language Maker', 'language': 'python'}]\n"
     ]
    }
   ],
   "source": [
    "print(DATA)"
   ]
  },
  {
   "cell_type": "code",
   "execution_count": 11,
   "metadata": {},
   "outputs": [
    {
     "name": "stdout",
     "output_type": "stream",
     "text": [
      "['Facundo', 'Karo', 'Pablo', 'Lorena']\n",
      "['Facundo', 'HÃ©ctor', 'Gabriel', 'Isabella']\n",
      "[{'name': 'HÃ©ctor', 'age': 19, 'organization': 'Platzi', 'position': 'Associate', 'language': 'ruby'}, {'name': 'Gabriel', 'age': 20, 'organization': 'Platzi', 'position': 'Associate', 'language': 'javascript'}, {'name': 'Juan', 'age': 17, 'organization': '', 'position': 'Student', 'language': 'go'}]\n"
     ]
    }
   ],
   "source": [
    "rpta1 = [x[\"name\"] for x in DATA  if(x[\"language\"]==\"python\")]\n",
    "rpta2 = [x[\"name\"] for x in DATA if (x[\"organization\"]==\"Platzi\") ]\n",
    "rpta3 = list(filter(lambda x : x[\"age\"]<=20 , DATA))\n",
    "print(rpta1)\n",
    "print(rpta2)\n",
    "print(rpta3)"
   ]
  },
  {
   "cell_type": "code",
   "execution_count": null,
   "metadata": {},
   "outputs": [],
   "source": []
  }
 ],
 "metadata": {
  "interpreter": {
   "hash": "3c9aab20be4f3bc843eb5d24d824ed3fbdc70565671496c921cf9793e505297e"
  },
  "kernelspec": {
   "display_name": "Python 3.9.7 ('py397')",
   "language": "python",
   "name": "python3"
  },
  "language_info": {
   "codemirror_mode": {
    "name": "ipython",
    "version": 3
   },
   "file_extension": ".py",
   "mimetype": "text/x-python",
   "name": "python",
   "nbconvert_exporter": "python",
   "pygments_lexer": "ipython3",
   "version": "3.9.7"
  },
  "orig_nbformat": 4
 },
 "nbformat": 4,
 "nbformat_minor": 2
}
